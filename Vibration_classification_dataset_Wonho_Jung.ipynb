{
  "cells": [
    {
      "cell_type": "markdown",
      "metadata": {
        "id": "view-in-github",
        "colab_type": "text"
      },
      "source": [
        "<a href=\"https://colab.research.google.com/github/galdir/Vibration_classification_dataset_Wonho_Jung/blob/main/Vibration_classification_dataset_Wonho_Jung.ipynb\" target=\"_parent\"><img src=\"https://colab.research.google.com/assets/colab-badge.svg\" alt=\"Open In Colab\"/></a>"
      ]
    },
    {
      "cell_type": "markdown",
      "source": [
        "#Dataset source"
      ],
      "metadata": {
        "id": "Hdp_9WSFeecs"
      }
    },
    {
      "cell_type": "markdown",
      "source": [
        "Dataset from https://data.mendeley.com/datasets/ztmf3m7h5x\n"
      ],
      "metadata": {
        "id": "a3pbOr2nea_D"
      }
    },
    {
      "cell_type": "markdown",
      "metadata": {
        "id": "KF_YC5zU2zsu"
      },
      "source": [
        "# Config"
      ]
    },
    {
      "cell_type": "code",
      "execution_count": 16,
      "metadata": {
        "id": "kYnU1HMxgmX1"
      },
      "outputs": [],
      "source": [
        "import pandas as pd\n",
        "import numpy as np\n",
        "import tensorflow as tf\n",
        "import scipy as sc\n",
        "import zipfile\n",
        "from matplotlib import pyplot as plt\n",
        "from matplotlib.colors import LogNorm\n",
        "import gc  \n",
        "\n",
        "import tensorflow as tf\n",
        "from tensorflow.keras.models import Sequential, load_model, Model\n",
        "from tensorflow.keras import datasets, layers, models\n",
        "from tensorflow.keras.callbacks import ModelCheckpoint\n",
        "\n",
        "from sklearn.metrics import confusion_matrix\n",
        "\n",
        "from sklearn.metrics import precision_score, recall_score\n",
        "from sklearn.metrics import f1_score\n",
        "\n",
        "from sklearn.preprocessing import StandardScaler\n",
        "from sklearn.preprocessing import MinMaxScaler\n",
        "\n",
        "\n",
        "import scipy.io\n",
        "\n",
        "from scipy import integrate\n",
        "from scipy.signal import butter,filtfilt\n",
        "from sklearn.utils import class_weight\n",
        "\n",
        "import math\n",
        "import pdb\n",
        "\n",
        "from sklearn.model_selection import cross_val_score\n",
        "from sklearn.model_selection import train_test_split\n",
        "\n",
        "from sklearn.model_selection import KFold\n",
        "from sklearn.model_selection import StratifiedKFold\n",
        "\n",
        "\n",
        "\n",
        "\n"
      ]
    },
    {
      "cell_type": "code",
      "execution_count": 2,
      "metadata": {
        "colab": {
          "base_uri": "https://localhost:8080/"
        },
        "id": "muasn72i9wUG",
        "outputId": "4618de46-27be-4ddb-82b0-75055a2a850b"
      },
      "outputs": [
        {
          "output_type": "stream",
          "name": "stdout",
          "text": [
            "Mounted at /content/drive\n"
          ]
        }
      ],
      "source": [
        "from google.colab import drive\n",
        "\n",
        "drive.mount('/content/drive')"
      ]
    },
    {
      "cell_type": "code",
      "execution_count": 3,
      "metadata": {
        "colab": {
          "base_uri": "https://localhost:8080/"
        },
        "id": "-ikUIfoZ936_",
        "outputId": "e9a67488-a533-4162-e519-a1a8bae92dc3"
      },
      "outputs": [
        {
          "output_type": "stream",
          "name": "stdout",
          "text": [
            "['0Nm_BPFI_03.mat', '0Nm_BPFI_10.mat', '0Nm_BPFI_30.mat', '0Nm_BPFO_03.mat', '0Nm_BPFO_10.mat', '0Nm_BPFO_30.mat', '0Nm_Misalign_01.mat', '0Nm_Misalign_03.mat', '0Nm_Misalign_05.mat', '0Nm_Normal.mat', '0Nm_Unbalance_0583mg.mat', '0Nm_Unbalance_1169mg.mat', '0Nm_Unbalance_1751mg.mat', '0Nm_Unbalance_2239mg.mat', '0Nm_Unbalance_3318mg.mat', '2Nm_BPFI_03.mat', '2Nm_BPFI_10.mat', '2Nm_BPFI_30.mat', '2Nm_BPFO_03.mat', '2Nm_BPFO_10.mat', '2Nm_BPFO_30.mat', '2Nm_Misalign_01.mat', '2Nm_Misalign_03.mat', '2Nm_Misalign_05.mat', '2Nm_Normal.mat', '2Nm_Unbalalnce_0583mg.mat', '2Nm_Unbalalnce_1169mg.mat', '2Nm_Unbalalnce_1751mg.mat', '2Nm_Unbalalnce_2239mg.mat', '2Nm_Unbalalnce_3318mg.mat', '4Nm_BPFI_03.mat', '4Nm_BPFI_10.mat', '4Nm_BPFI_30.mat', '4Nm_BPFO_03.mat', '4Nm_BPFO_10.mat', '4Nm_BPFO_30.mat', '4Nm_Misalign_01.mat', '4Nm_Misalign_03.mat', '4Nm_Misalign_05.mat', '4Nm_Normal.mat', '4Nm_Unbalance_0583mg.mat', '4Nm_Unbalance_1169mg.mat', '4Nm_Unbalance_1751mg.mat', '4Nm_Unbalance_2239mg.mat', '4Nm_Unbalance_3318mg.mat']\n"
          ]
        }
      ],
      "source": [
        "dataset_path = '/content/drive/MyDrive/datasets/vibration fault diagnosis of rotating machine - Wonho Jung/vibration.zip'\n",
        "model_path = '/content/drive/MyDrive/Vibration classification - dataset Wonho Jung/models'\n",
        "\n",
        "# zip file handler  \n",
        "zip_handler = zipfile.ZipFile(dataset_path)\n",
        "\n",
        "# list available files in the container\n",
        "print (zip_handler.namelist())"
      ]
    },
    {
      "cell_type": "code",
      "execution_count": 4,
      "metadata": {
        "id": "OD8xPjcR-VIA"
      },
      "outputs": [],
      "source": [
        "files = zip_handler.namelist()"
      ]
    },
    {
      "cell_type": "code",
      "execution_count": 5,
      "metadata": {
        "colab": {
          "base_uri": "https://localhost:8080/"
        },
        "id": "pU40N3oW-mq6",
        "outputId": "27096a88-8688-4bde-98ee-f5c7c47bf67f"
      },
      "outputs": [
        {
          "output_type": "execute_result",
          "data": {
            "text/plain": [
              "45"
            ]
          },
          "metadata": {},
          "execution_count": 5
        }
      ],
      "source": [
        "len(files)"
      ]
    },
    {
      "cell_type": "markdown",
      "metadata": {
        "id": "rpkb6PfG22su"
      },
      "source": [
        "## Utility functions"
      ]
    },
    {
      "cell_type": "code",
      "execution_count": 6,
      "metadata": {
        "id": "xrYS58giBXZx"
      },
      "outputs": [],
      "source": [
        "def butter_lowpass_filter(data, cutoff, fs, order):\n",
        "    nyq = 0.5 * fs  # Nyquist Frequency\n",
        "    normal_cutoff = cutoff / nyq\n",
        "    # Get the filter coefficients \n",
        "    b, a = butter(order, normal_cutoff, btype='high', analog=False)\n",
        "    y = filtfilt(b, a, data)\n",
        "    return y"
      ]
    },
    {
      "cell_type": "code",
      "execution_count": 7,
      "metadata": {
        "id": "0tBdcn0yBsH_"
      },
      "outputs": [],
      "source": [
        "def acc_to_vel(data, fs):\n",
        "  window_length = len(data)\n",
        "  data = data - np.mean(data)\n",
        "  time_length = (window_length)/fs\n",
        "  time = np.linspace(0, time_length, int(fs * time_length))\n",
        "  signal_integrated = integrate.cumtrapz(data, x=time, initial=0.0)\n",
        "  #signal_integrated = signal_integrated[fs:]\n",
        "  # Filter requirements.\n",
        "  #T = 5.0         # Sample Period\n",
        "  #fs = 30.0       # sample rate, Hz\n",
        "  cutoff = 10      # desired cutoff frequency of the filter, Hz ,      slightly higher than actual 1.2 Hz\n",
        "  order = 2\n",
        "  signal_integrated = butter_lowpass_filter(signal_integrated, cutoff, fs, order)\n",
        "  return signal_integrated\n"
      ]
    },
    {
      "cell_type": "code",
      "source": [
        "def signalAmpSpectrum(signal, window_length, fs):\n",
        "  \"\"\"\n",
        "  A function that returns the amplitude spectrum of a signal. \n",
        "  Use numpy's fft, removing the redundancy and multiplying the remaining energy by two, as the energy was divided by two in the spectral redundancy.\n",
        "\n",
        "  Parameters:\n",
        "    signal : array_like\n",
        "      Input array\n",
        "    window_length : int\n",
        "      Number of points in the input to use. \n",
        "      Signal is reduced to the window_length.\n",
        "    fs : int\n",
        "      Sample frequency of the signal to calculate frequency array.  \n",
        "  \"\"\"\n",
        "  \n",
        "  #pdb.set_trace()\n",
        "  signal = signal[:window_length]\n",
        "  amps = np.abs(np.fft.rfft(signal))/window_length\n",
        "  amps[0] = 0\n",
        "  amps = amps * 2\n",
        "  \n",
        "  freqs = np.fft.rfftfreq(window_length, 1/fs)\n",
        "  return [freqs, amps]"
      ],
      "metadata": {
        "id": "E_RqkThgVL4h"
      },
      "execution_count": 8,
      "outputs": []
    },
    {
      "cell_type": "code",
      "source": [
        "help(signalAmpSpectrum)"
      ],
      "metadata": {
        "colab": {
          "base_uri": "https://localhost:8080/"
        },
        "id": "_i2uPq8sXPCd",
        "outputId": "3be97395-196d-4df5-bc66-6af2bb25cdfb"
      },
      "execution_count": 9,
      "outputs": [
        {
          "output_type": "stream",
          "name": "stdout",
          "text": [
            "Help on function signalAmpSpectrum in module __main__:\n",
            "\n",
            "signalAmpSpectrum(signal, window_length, fs)\n",
            "    A function that returns the amplitude spectrum of a signal. \n",
            "    Use numpy's fft, removing the redundancy and multiplying the remaining energy by two, as the energy was divided by two in the spectral redundancy.\n",
            "    \n",
            "    Parameters:\n",
            "      signal : array_like\n",
            "        Input array\n",
            "      window_length : int\n",
            "        Number of points in the input to use. \n",
            "        Signal is reduced to the window_length.\n",
            "      fs : int\n",
            "        Sample frequency of the signal to calculate frequency array.\n",
            "\n"
          ]
        }
      ]
    },
    {
      "cell_type": "code",
      "execution_count": 11,
      "metadata": {
        "id": "qVzwj-Eo4Ar5"
      },
      "outputs": [],
      "source": [
        "def plot_channels_time(experiment):\n",
        "  print(data_names[experiment])\n",
        "\n",
        "  window_length = len(data[experiment]['channel_1'])\n",
        "  #data = data - np.mean(data)\n",
        "  time_length = (window_length)/fs\n",
        "  time = np.linspace(0, time_length, int(fs * time_length))\n",
        "\n",
        "  fig = plt.figure(figsize=(12,8))\n",
        "  ax1=plt.subplot(2,2,1)\n",
        "  ax1.plot(time, data[experiment]['channel_1'])\n",
        "\n",
        "  ax2=plt.subplot(2,2,2, sharey=ax1)\n",
        "  ax2.plot(time, data[experiment]['channel_2'])\n",
        "\n",
        "  ax3=plt.subplot(2,2,3, sharey=ax1)\n",
        "  ax3.plot(time, data[experiment]['channel_3'])\n",
        "\n",
        "  ax4=plt.subplot(2,2,4, sharey=ax1)\n",
        "  ax4.plot(time, data[experiment]['channel_4'])\n",
        "\n",
        "  plt.tight_layout()\n",
        "  #fig.savefig(\"../figures/Fig.4_cd.png\", dpi=200)\n",
        "  plt.show()\n",
        "  fig.clf()\n",
        "  plt.close()\n",
        "  gc.collect()\n"
      ]
    },
    {
      "cell_type": "code",
      "execution_count": 12,
      "metadata": {
        "id": "yyQ08p5T9Ruu"
      },
      "outputs": [],
      "source": [
        "def plot_channels_spectra(experiment, y_lim=0, x_lim=600):\n",
        "  print(data_names[experiment])\n",
        "  fig = plt.figure(figsize=(12,8))\n",
        "  ax1=plt.subplot(2,2,1)\n",
        "  window_length = int(fs)\n",
        "  starting_index = fs\n",
        "  amp = np.abs(np.fft.rfft(data[experiment]['channel_1'].loc[starting_index : window_length + starting_index]))/window_length\n",
        "  amp[0]=0\n",
        "  amp=amp*2\n",
        "  freq = np.fft.rfftfreq(window_length, d=1/fs)\n",
        "  ax1.plot(freq, amp)\n",
        "  amp_max = np.max(amp)\n",
        "\n",
        "  #ax2=plt.subplot(2,2,2, sharey=ax1)\n",
        "  ax2=plt.subplot(2, 2, 2)\n",
        "  amp = np.abs(np.fft.rfft(data[experiment]['channel_2'].loc[starting_index : starting_index + window_length]))/window_length\n",
        "  amp[0]=0 \n",
        "  amp=amp*2\n",
        "  freq = np.fft.rfftfreq(window_length, d=1/fs)\n",
        "  ax2.plot(freq, amp)\n",
        "  amp_max = max(np.max(amp), amp_max)\n",
        "\n",
        "  #ax3=plt.subplot(2, 2, 3, sharey=ax1)\n",
        "  ax3=plt.subplot(2, 2, 3)\n",
        "  amp = np.abs(np.fft.rfft(data[experiment]['channel_3'].loc[starting_index : starting_index + window_length]))/window_length\n",
        "  amp[0]=0 \n",
        "  amp=amp*2\n",
        "  freq = np.fft.rfftfreq(window_length, d=1/fs)\n",
        "  ax3.plot(freq, amp)\n",
        "  amp_max = max(np.max(amp), amp_max)\n",
        "\n",
        "  #ax4=plt.subplot(2, 2, 4, sharey=ax1)\n",
        "  ax4=plt.subplot(2, 2, 4)\n",
        "  amp = np.abs(np.fft.rfft(data[experiment]['channel_4'].loc[starting_index : starting_index + window_length]))/window_length\n",
        "  amp[0]=0 \n",
        "  amp=amp*2\n",
        "  freq = np.fft.rfftfreq(window_length, d=1/fs)\n",
        "  ax4.plot(freq, amp)\n",
        "  if y_lim == 0:\n",
        "    amp_max = max(np.max(amp), amp_max*1.1)\n",
        "  else:\n",
        "    amp_max = y_lim\n",
        "  \n",
        "  print(amp_max)\n",
        "  ax1.set_ylim((0, amp_max))\n",
        "  ax2.set_ylim((0, amp_max))\n",
        "  ax3.set_ylim((0, amp_max))\n",
        "  ax4.set_ylim((0, amp_max))\n",
        "  ax1.set_xlim((0, x_lim))\n",
        "  ax2.set_xlim((0, x_lim))\n",
        "  ax3.set_xlim((0, x_lim))\n",
        "  ax4.set_xlim((0, x_lim))\n",
        "\n",
        "\n",
        "  plt.tight_layout()\n",
        "  #fig.savefig(\"../figures/Fig.4_cd.png\", dpi=200)\n",
        "  plt.show()\n",
        "  fig.clf()\n",
        "  plt.close()\n",
        "  gc.collect()"
      ]
    },
    {
      "cell_type": "markdown",
      "source": [
        "# Classification of umbalance, misaligment and bearing faults"
      ],
      "metadata": {
        "id": "FKb7cnpAvuj2"
      }
    },
    {
      "cell_type": "markdown",
      "source": [
        "## Loading"
      ],
      "metadata": {
        "id": "vQn_uyzjwWw-"
      }
    },
    {
      "cell_type": "code",
      "source": [
        "fs=25600\n",
        "new_fs = 4096\n",
        "def mat_dataset_to_df(mat):\n",
        "  datadf = [item.flat[0] for item in mat['Signal'][0][0]['y_values']['values']]\n",
        "  a = datadf[0][:,0]\n",
        "  #print(len(a))\n",
        "  b = datadf[0][:,1]\n",
        "  c = datadf[0][:,2]\n",
        "  d = datadf[0][:,3]\n",
        "  secs = len(a)/fs # Number of seconds in signal X\n",
        "  samps = int(secs * new_fs)     # Number of samples to downsample\n",
        "  a = scipy.signal.resample(a, samps)\n",
        "  #print(len(a))\n",
        "  b = scipy.signal.resample(b, samps)\n",
        "  c = scipy.signal.resample(c, samps)\n",
        "  d = scipy.signal.resample(d, samps)\n",
        "\n",
        "  #a = acc_to_vel(a, new_fs)\n",
        "  #b = acc_to_vel(b, new_fs)\n",
        "  #c = acc_to_vel(c, new_fs)\n",
        "  #d = acc_to_vel(d, new_fs)\n",
        "\n",
        "  #print(len(datadf))\n",
        "  columns = ['channel_1', 'channel_2', 'channel_3', 'channel_4' ]\n",
        "  df = pd.DataFrame(list(zip(a, b, c, d)), columns=columns)  \n",
        "  df.reset_index(inplace=True, drop=True)\n",
        "  df.loc[:, 'channel_1']=acc_to_vel(df['channel_1'].values, new_fs)\n",
        "  df.loc[:, 'channel_2']=acc_to_vel(df['channel_2'].values, new_fs)\n",
        "  df.loc[:, 'channel_3']=acc_to_vel(df['channel_3'].values, new_fs)\n",
        "  df.loc[:, 'channel_4']=acc_to_vel(df['channel_4'].values, new_fs)\n",
        "  return df\n",
        "\n",
        "\n",
        "data = []\n",
        "data_names = []\n",
        "with zipfile.ZipFile(dataset_path, 'r') as f:\n",
        "  for i in range(len(files)):\n",
        "    tokens = files[i].split('_')\n",
        "    print(files[i])\n",
        "    with f.open(files[i], 'r') as c:\n",
        "        mat = scipy.io.loadmat(c)\n",
        "        df = mat_dataset_to_df(mat)\n",
        "        data.append(df)\n",
        "        data_names.append(files[i])"
      ],
      "metadata": {
        "colab": {
          "base_uri": "https://localhost:8080/"
        },
        "id": "WhlBQ9NiwGCf",
        "outputId": "249f5e60-5fc6-462d-e347-c8229836d819"
      },
      "execution_count": 18,
      "outputs": [
        {
          "output_type": "stream",
          "name": "stdout",
          "text": [
            "0Nm_BPFI_03.mat\n",
            "0Nm_BPFI_10.mat\n",
            "0Nm_BPFI_30.mat\n",
            "0Nm_BPFO_03.mat\n",
            "0Nm_BPFO_10.mat\n",
            "0Nm_BPFO_30.mat\n",
            "0Nm_Misalign_01.mat\n",
            "0Nm_Misalign_03.mat\n",
            "0Nm_Misalign_05.mat\n",
            "0Nm_Normal.mat\n",
            "0Nm_Unbalance_0583mg.mat\n",
            "0Nm_Unbalance_1169mg.mat\n",
            "0Nm_Unbalance_1751mg.mat\n",
            "0Nm_Unbalance_2239mg.mat\n",
            "0Nm_Unbalance_3318mg.mat\n",
            "2Nm_BPFI_03.mat\n",
            "2Nm_BPFI_10.mat\n",
            "2Nm_BPFI_30.mat\n",
            "2Nm_BPFO_03.mat\n",
            "2Nm_BPFO_10.mat\n",
            "2Nm_BPFO_30.mat\n",
            "2Nm_Misalign_01.mat\n",
            "2Nm_Misalign_03.mat\n",
            "2Nm_Misalign_05.mat\n",
            "2Nm_Normal.mat\n",
            "2Nm_Unbalalnce_0583mg.mat\n",
            "2Nm_Unbalalnce_1169mg.mat\n",
            "2Nm_Unbalalnce_1751mg.mat\n",
            "2Nm_Unbalalnce_2239mg.mat\n",
            "2Nm_Unbalalnce_3318mg.mat\n",
            "4Nm_BPFI_03.mat\n",
            "4Nm_BPFI_10.mat\n",
            "4Nm_BPFI_30.mat\n",
            "4Nm_BPFO_03.mat\n",
            "4Nm_BPFO_10.mat\n",
            "4Nm_BPFO_30.mat\n",
            "4Nm_Misalign_01.mat\n",
            "4Nm_Misalign_03.mat\n",
            "4Nm_Misalign_05.mat\n",
            "4Nm_Normal.mat\n",
            "4Nm_Unbalance_0583mg.mat\n",
            "4Nm_Unbalance_1169mg.mat\n",
            "4Nm_Unbalance_1751mg.mat\n",
            "4Nm_Unbalance_2239mg.mat\n",
            "4Nm_Unbalance_3318mg.mat\n"
          ]
        }
      ]
    },
    {
      "cell_type": "code",
      "execution_count": 19,
      "metadata": {
        "id": "L-EqJUNLxWuR"
      },
      "outputs": [],
      "source": [
        "fs=new_fs\n",
        "speed = 3010 #rpm\n",
        "amostras_por_rotacao = 1 / (speed / 60) * fs"
      ]
    },
    {
      "cell_type": "code",
      "execution_count": 20,
      "metadata": {
        "id": "WnbjBoCjxWuT"
      },
      "outputs": [],
      "source": [
        "experiment = 0"
      ]
    },
    {
      "cell_type": "code",
      "source": [
        "data_names[experiment]"
      ],
      "metadata": {
        "colab": {
          "base_uri": "https://localhost:8080/",
          "height": 36
        },
        "id": "MYCsrW7LxYr8",
        "outputId": "28c302e9-a6bf-4343-bfe8-e61a094027b4"
      },
      "execution_count": 21,
      "outputs": [
        {
          "output_type": "execute_result",
          "data": {
            "text/plain": [
              "'0Nm_BPFI_03.mat'"
            ],
            "application/vnd.google.colaboratory.intrinsic+json": {
              "type": "string"
            }
          },
          "metadata": {},
          "execution_count": 21
        }
      ]
    },
    {
      "cell_type": "code",
      "execution_count": 22,
      "metadata": {
        "colab": {
          "base_uri": "https://localhost:8080/",
          "height": 423
        },
        "outputId": "f70e9a0f-2110-4773-a208-275c807ba9b1",
        "id": "FUPCstYSxWuT"
      },
      "outputs": [
        {
          "output_type": "execute_result",
          "data": {
            "text/plain": [
              "        channel_1  channel_2     channel_3     channel_4\n",
              "0        0.000135   0.000045  1.060265e-05 -6.644647e-05\n",
              "1       -0.000355   0.000706 -5.057436e-05  1.199219e-05\n",
              "2       -0.000365   0.000453 -5.450786e-07 -4.498358e-05\n",
              "3       -0.000115   0.000286  8.273540e-05 -1.416822e-04\n",
              "4       -0.000142   0.000642 -2.398845e-06 -3.416102e-05\n",
              "...           ...        ...           ...           ...\n",
              "245755  -0.000058   0.000021  2.676509e-04  1.370458e-05\n",
              "245756  -0.000102   0.000316  2.717795e-04  2.020595e-04\n",
              "245757  -0.000445   0.000297  2.661365e-04  2.173504e-04\n",
              "245758  -0.000248   0.000074  2.411315e-04 -2.050478e-08\n",
              "245759  -0.000057   0.000154  1.459543e-04  1.305201e-04\n",
              "\n",
              "[245760 rows x 4 columns]"
            ],
            "text/html": [
              "\n",
              "  <div id=\"df-8f69eb5c-2d0d-4388-b20c-7dff597e77c2\">\n",
              "    <div class=\"colab-df-container\">\n",
              "      <div>\n",
              "<style scoped>\n",
              "    .dataframe tbody tr th:only-of-type {\n",
              "        vertical-align: middle;\n",
              "    }\n",
              "\n",
              "    .dataframe tbody tr th {\n",
              "        vertical-align: top;\n",
              "    }\n",
              "\n",
              "    .dataframe thead th {\n",
              "        text-align: right;\n",
              "    }\n",
              "</style>\n",
              "<table border=\"1\" class=\"dataframe\">\n",
              "  <thead>\n",
              "    <tr style=\"text-align: right;\">\n",
              "      <th></th>\n",
              "      <th>channel_1</th>\n",
              "      <th>channel_2</th>\n",
              "      <th>channel_3</th>\n",
              "      <th>channel_4</th>\n",
              "    </tr>\n",
              "  </thead>\n",
              "  <tbody>\n",
              "    <tr>\n",
              "      <th>0</th>\n",
              "      <td>0.000135</td>\n",
              "      <td>0.000045</td>\n",
              "      <td>1.060265e-05</td>\n",
              "      <td>-6.644647e-05</td>\n",
              "    </tr>\n",
              "    <tr>\n",
              "      <th>1</th>\n",
              "      <td>-0.000355</td>\n",
              "      <td>0.000706</td>\n",
              "      <td>-5.057436e-05</td>\n",
              "      <td>1.199219e-05</td>\n",
              "    </tr>\n",
              "    <tr>\n",
              "      <th>2</th>\n",
              "      <td>-0.000365</td>\n",
              "      <td>0.000453</td>\n",
              "      <td>-5.450786e-07</td>\n",
              "      <td>-4.498358e-05</td>\n",
              "    </tr>\n",
              "    <tr>\n",
              "      <th>3</th>\n",
              "      <td>-0.000115</td>\n",
              "      <td>0.000286</td>\n",
              "      <td>8.273540e-05</td>\n",
              "      <td>-1.416822e-04</td>\n",
              "    </tr>\n",
              "    <tr>\n",
              "      <th>4</th>\n",
              "      <td>-0.000142</td>\n",
              "      <td>0.000642</td>\n",
              "      <td>-2.398845e-06</td>\n",
              "      <td>-3.416102e-05</td>\n",
              "    </tr>\n",
              "    <tr>\n",
              "      <th>...</th>\n",
              "      <td>...</td>\n",
              "      <td>...</td>\n",
              "      <td>...</td>\n",
              "      <td>...</td>\n",
              "    </tr>\n",
              "    <tr>\n",
              "      <th>245755</th>\n",
              "      <td>-0.000058</td>\n",
              "      <td>0.000021</td>\n",
              "      <td>2.676509e-04</td>\n",
              "      <td>1.370458e-05</td>\n",
              "    </tr>\n",
              "    <tr>\n",
              "      <th>245756</th>\n",
              "      <td>-0.000102</td>\n",
              "      <td>0.000316</td>\n",
              "      <td>2.717795e-04</td>\n",
              "      <td>2.020595e-04</td>\n",
              "    </tr>\n",
              "    <tr>\n",
              "      <th>245757</th>\n",
              "      <td>-0.000445</td>\n",
              "      <td>0.000297</td>\n",
              "      <td>2.661365e-04</td>\n",
              "      <td>2.173504e-04</td>\n",
              "    </tr>\n",
              "    <tr>\n",
              "      <th>245758</th>\n",
              "      <td>-0.000248</td>\n",
              "      <td>0.000074</td>\n",
              "      <td>2.411315e-04</td>\n",
              "      <td>-2.050478e-08</td>\n",
              "    </tr>\n",
              "    <tr>\n",
              "      <th>245759</th>\n",
              "      <td>-0.000057</td>\n",
              "      <td>0.000154</td>\n",
              "      <td>1.459543e-04</td>\n",
              "      <td>1.305201e-04</td>\n",
              "    </tr>\n",
              "  </tbody>\n",
              "</table>\n",
              "<p>245760 rows × 4 columns</p>\n",
              "</div>\n",
              "      <button class=\"colab-df-convert\" onclick=\"convertToInteractive('df-8f69eb5c-2d0d-4388-b20c-7dff597e77c2')\"\n",
              "              title=\"Convert this dataframe to an interactive table.\"\n",
              "              style=\"display:none;\">\n",
              "        \n",
              "  <svg xmlns=\"http://www.w3.org/2000/svg\" height=\"24px\"viewBox=\"0 0 24 24\"\n",
              "       width=\"24px\">\n",
              "    <path d=\"M0 0h24v24H0V0z\" fill=\"none\"/>\n",
              "    <path d=\"M18.56 5.44l.94 2.06.94-2.06 2.06-.94-2.06-.94-.94-2.06-.94 2.06-2.06.94zm-11 1L8.5 8.5l.94-2.06 2.06-.94-2.06-.94L8.5 2.5l-.94 2.06-2.06.94zm10 10l.94 2.06.94-2.06 2.06-.94-2.06-.94-.94-2.06-.94 2.06-2.06.94z\"/><path d=\"M17.41 7.96l-1.37-1.37c-.4-.4-.92-.59-1.43-.59-.52 0-1.04.2-1.43.59L10.3 9.45l-7.72 7.72c-.78.78-.78 2.05 0 2.83L4 21.41c.39.39.9.59 1.41.59.51 0 1.02-.2 1.41-.59l7.78-7.78 2.81-2.81c.8-.78.8-2.07 0-2.86zM5.41 20L4 18.59l7.72-7.72 1.47 1.35L5.41 20z\"/>\n",
              "  </svg>\n",
              "      </button>\n",
              "      \n",
              "  <style>\n",
              "    .colab-df-container {\n",
              "      display:flex;\n",
              "      flex-wrap:wrap;\n",
              "      gap: 12px;\n",
              "    }\n",
              "\n",
              "    .colab-df-convert {\n",
              "      background-color: #E8F0FE;\n",
              "      border: none;\n",
              "      border-radius: 50%;\n",
              "      cursor: pointer;\n",
              "      display: none;\n",
              "      fill: #1967D2;\n",
              "      height: 32px;\n",
              "      padding: 0 0 0 0;\n",
              "      width: 32px;\n",
              "    }\n",
              "\n",
              "    .colab-df-convert:hover {\n",
              "      background-color: #E2EBFA;\n",
              "      box-shadow: 0px 1px 2px rgba(60, 64, 67, 0.3), 0px 1px 3px 1px rgba(60, 64, 67, 0.15);\n",
              "      fill: #174EA6;\n",
              "    }\n",
              "\n",
              "    [theme=dark] .colab-df-convert {\n",
              "      background-color: #3B4455;\n",
              "      fill: #D2E3FC;\n",
              "    }\n",
              "\n",
              "    [theme=dark] .colab-df-convert:hover {\n",
              "      background-color: #434B5C;\n",
              "      box-shadow: 0px 1px 3px 1px rgba(0, 0, 0, 0.15);\n",
              "      filter: drop-shadow(0px 1px 2px rgba(0, 0, 0, 0.3));\n",
              "      fill: #FFFFFF;\n",
              "    }\n",
              "  </style>\n",
              "\n",
              "      <script>\n",
              "        const buttonEl =\n",
              "          document.querySelector('#df-8f69eb5c-2d0d-4388-b20c-7dff597e77c2 button.colab-df-convert');\n",
              "        buttonEl.style.display =\n",
              "          google.colab.kernel.accessAllowed ? 'block' : 'none';\n",
              "\n",
              "        async function convertToInteractive(key) {\n",
              "          const element = document.querySelector('#df-8f69eb5c-2d0d-4388-b20c-7dff597e77c2');\n",
              "          const dataTable =\n",
              "            await google.colab.kernel.invokeFunction('convertToInteractive',\n",
              "                                                     [key], {});\n",
              "          if (!dataTable) return;\n",
              "\n",
              "          const docLinkHtml = 'Like what you see? Visit the ' +\n",
              "            '<a target=\"_blank\" href=https://colab.research.google.com/notebooks/data_table.ipynb>data table notebook</a>'\n",
              "            + ' to learn more about interactive tables.';\n",
              "          element.innerHTML = '';\n",
              "          dataTable['output_type'] = 'display_data';\n",
              "          await google.colab.output.renderOutput(dataTable, element);\n",
              "          const docLink = document.createElement('div');\n",
              "          docLink.innerHTML = docLinkHtml;\n",
              "          element.appendChild(docLink);\n",
              "        }\n",
              "      </script>\n",
              "    </div>\n",
              "  </div>\n",
              "  "
            ]
          },
          "metadata": {},
          "execution_count": 22
        }
      ],
      "source": [
        "data[experiment]"
      ]
    },
    {
      "cell_type": "markdown",
      "source": [
        "## EDA"
      ],
      "metadata": {
        "id": "BPXFbSQ206UC"
      }
    },
    {
      "cell_type": "code",
      "source": [
        "experiment = 0\n",
        "plot_channels_time(experiment)"
      ],
      "metadata": {
        "colab": {
          "base_uri": "https://localhost:8080/",
          "height": 602
        },
        "id": "q7UWgxJ73laf",
        "outputId": "c99cf576-4bdf-4355-8464-404510cd87fa"
      },
      "execution_count": 26,
      "outputs": [
        {
          "output_type": "stream",
          "name": "stdout",
          "text": [
            "0Nm_BPFI_03.mat\n"
          ]
        },
        {
          "output_type": "display_data",
          "data": {
            "text/plain": [
              "<Figure size 864x576 with 4 Axes>"
            ],
            "image/png": "[encoded data removed]"
          },
          "metadata": {
            "needs_background": "light"
          }
        }
      ]
    },
    {
      "cell_type": "code",
      "source": [
        "plot_channels_spectra(experiment, 0.0001, 2000)"
      ],
      "metadata": {
        "colab": {
          "base_uri": "https://localhost:8080/",
          "height": 620
        },
        "id": "eUrpHSaL07aH",
        "outputId": "99caf3fb-8712-4957-de55-bd62b04c3387"
      },
      "execution_count": 27,
      "outputs": [
        {
          "output_type": "stream",
          "name": "stdout",
          "text": [
            "0Nm_BPFI_03.mat\n",
            "0.0001\n"
          ]
        },
        {
          "output_type": "display_data",
          "data": {
            "text/plain": [
              "<Figure size 864x576 with 4 Axes>"
            ],
            "image/png": "[encoded data removed]"
          },
          "metadata": {
            "needs_background": "light"
          }
        }
      ]
    },
    {
      "cell_type": "code",
      "source": [
        "experiment = 6\n",
        "plot_channels_spectra(experiment, 0.0001, 2000)"
      ],
      "metadata": {
        "colab": {
          "base_uri": "https://localhost:8080/",
          "height": 620
        },
        "id": "Z7ZpCOja1TYX",
        "outputId": "48e03df0-1ecb-4685-c154-3368e1b32090"
      },
      "execution_count": 28,
      "outputs": [
        {
          "output_type": "stream",
          "name": "stdout",
          "text": [
            "0Nm_Misalign_01.mat\n",
            "0.0001\n"
          ]
        },
        {
          "output_type": "display_data",
          "data": {
            "text/plain": [
              "<Figure size 864x576 with 4 Axes>"
            ],
            "image/png": "[encoded data removed]"
          },
          "metadata": {
            "needs_background": "light"
          }
        }
      ]
    },
    {
      "cell_type": "markdown",
      "source": [
        "## Preprocessing"
      ],
      "metadata": {
        "id": "HfHiQSinxT_q"
      }
    },
    {
      "cell_type": "code",
      "execution_count": 29,
      "metadata": {
        "colab": {
          "base_uri": "https://localhost:8080/"
        },
        "outputId": "17afd794-4019-45d2-e04e-c490314f9950",
        "id": "WXEt-RFOxT_s"
      },
      "outputs": [
        {
          "output_type": "execute_result",
          "data": {
            "text/plain": [
              "45"
            ]
          },
          "metadata": {},
          "execution_count": 29
        }
      ],
      "source": [
        "len(data_names)"
      ]
    },
    {
      "cell_type": "code",
      "execution_count": 30,
      "metadata": {
        "colab": {
          "base_uri": "https://localhost:8080/"
        },
        "outputId": "4ec11891-e48a-46fe-ffb8-02df429c1a5e",
        "id": "K0SmN7rhxT_t"
      },
      "outputs": [
        {
          "output_type": "execute_result",
          "data": {
            "text/plain": [
              "['0Nm_BPFI_03.mat',\n",
              " '0Nm_BPFI_10.mat',\n",
              " '0Nm_BPFI_30.mat',\n",
              " '0Nm_BPFO_03.mat',\n",
              " '0Nm_BPFO_10.mat',\n",
              " '0Nm_BPFO_30.mat',\n",
              " '0Nm_Misalign_01.mat',\n",
              " '0Nm_Misalign_03.mat',\n",
              " '0Nm_Misalign_05.mat',\n",
              " '0Nm_Normal.mat',\n",
              " '0Nm_Unbalance_0583mg.mat',\n",
              " '0Nm_Unbalance_1169mg.mat',\n",
              " '0Nm_Unbalance_1751mg.mat',\n",
              " '0Nm_Unbalance_2239mg.mat',\n",
              " '0Nm_Unbalance_3318mg.mat',\n",
              " '2Nm_BPFI_03.mat',\n",
              " '2Nm_BPFI_10.mat',\n",
              " '2Nm_BPFI_30.mat',\n",
              " '2Nm_BPFO_03.mat',\n",
              " '2Nm_BPFO_10.mat',\n",
              " '2Nm_BPFO_30.mat',\n",
              " '2Nm_Misalign_01.mat',\n",
              " '2Nm_Misalign_03.mat',\n",
              " '2Nm_Misalign_05.mat',\n",
              " '2Nm_Normal.mat',\n",
              " '2Nm_Unbalalnce_0583mg.mat',\n",
              " '2Nm_Unbalalnce_1169mg.mat',\n",
              " '2Nm_Unbalalnce_1751mg.mat',\n",
              " '2Nm_Unbalalnce_2239mg.mat',\n",
              " '2Nm_Unbalalnce_3318mg.mat',\n",
              " '4Nm_BPFI_03.mat',\n",
              " '4Nm_BPFI_10.mat',\n",
              " '4Nm_BPFI_30.mat',\n",
              " '4Nm_BPFO_03.mat',\n",
              " '4Nm_BPFO_10.mat',\n",
              " '4Nm_BPFO_30.mat',\n",
              " '4Nm_Misalign_01.mat',\n",
              " '4Nm_Misalign_03.mat',\n",
              " '4Nm_Misalign_05.mat',\n",
              " '4Nm_Normal.mat',\n",
              " '4Nm_Unbalance_0583mg.mat',\n",
              " '4Nm_Unbalance_1169mg.mat',\n",
              " '4Nm_Unbalance_1751mg.mat',\n",
              " '4Nm_Unbalance_2239mg.mat',\n",
              " '4Nm_Unbalance_3318mg.mat']"
            ]
          },
          "metadata": {},
          "execution_count": 30
        }
      ],
      "source": [
        "data_names"
      ]
    },
    {
      "cell_type": "code",
      "execution_count": 31,
      "metadata": {
        "colab": {
          "base_uri": "https://localhost:8080/"
        },
        "outputId": "049f79a2-b40b-4f98-e3f4-ec9540db01ca",
        "id": "XNmNLqchxT_t"
      },
      "outputs": [
        {
          "output_type": "stream",
          "name": "stdout",
          "text": [
            "BPFI\n",
            "BPFI\n",
            "BPFI\n",
            "BPFO\n",
            "BPFO\n",
            "BPFO\n",
            "Misalign\n",
            "Misalign\n",
            "Misalign\n",
            "Normal.mat\n",
            "Unbalance\n",
            "Unbalance\n",
            "Unbalance\n",
            "Unbalance\n",
            "Unbalance\n",
            "BPFI\n",
            "BPFI\n",
            "BPFI\n",
            "BPFO\n",
            "BPFO\n",
            "BPFO\n",
            "Misalign\n",
            "Misalign\n",
            "Misalign\n",
            "Normal.mat\n",
            "Unbalalnce\n",
            "Unbalalnce\n",
            "Unbalalnce\n",
            "Unbalalnce\n",
            "Unbalalnce\n",
            "BPFI\n",
            "BPFI\n",
            "BPFI\n",
            "BPFO\n",
            "BPFO\n",
            "BPFO\n",
            "Misalign\n",
            "Misalign\n",
            "Misalign\n",
            "Normal.mat\n",
            "Unbalance\n",
            "Unbalance\n",
            "Unbalance\n",
            "Unbalance\n",
            "Unbalance\n",
            "Labels: [3, 3, 3, 4, 4, 4, 2, 2, 2, 0, 1, 1, 1, 1, 1, 3, 3, 3, 4, 4, 4, 2, 2, 2, 0, 1, 1, 1, 1, 1, 3, 3, 3, 4, 4, 4, 2, 2, 2, 0, 1, 1, 1, 1, 1]\n",
            "45\n"
          ]
        }
      ],
      "source": [
        "labels = []\n",
        "labels_dic = {'Misalign':2, 'Normal.mat': 0, 'Unbalance': 1, 'Unbalalnce': 1, 'BPFI': 3, 'BPFO': 4}\n",
        "\n",
        "for name in data_names:\n",
        "  tokens = name.split('_')\n",
        "  print(tokens[1])\n",
        "  labels.append(labels_dic.get(tokens[1], \"No info available\"))\n",
        "\n",
        "print(f'Labels: {labels}')\n",
        "print(len(labels))\n",
        "  "
      ]
    },
    {
      "cell_type": "code",
      "execution_count": 32,
      "metadata": {
        "colab": {
          "base_uri": "https://localhost:8080/"
        },
        "outputId": "8c7e2c19-6e54-479e-f328-f4ca0e19d538",
        "id": "_sRk2iDYxT_u"
      },
      "outputs": [
        {
          "output_type": "execute_result",
          "data": {
            "text/plain": [
              "4096"
            ]
          },
          "metadata": {},
          "execution_count": 32
        }
      ],
      "source": [
        "fs"
      ]
    },
    {
      "cell_type": "code",
      "source": [
        "print(labels.count(0)/len(labels))\n",
        "print(labels.count(1)/len(labels))\n",
        "print(labels.count(2)/len(labels))\n",
        "print(labels.count(3)/len(labels))\n",
        "print(labels.count(4)/len(labels))"
      ],
      "metadata": {
        "colab": {
          "base_uri": "https://localhost:8080/"
        },
        "outputId": "bb686ad8-a93c-4594-ef0b-3ee4986ca090",
        "id": "p6A2wTRexT_u"
      },
      "execution_count": 33,
      "outputs": [
        {
          "output_type": "stream",
          "name": "stdout",
          "text": [
            "0.06666666666666667\n",
            "0.3333333333333333\n",
            "0.2\n",
            "0.2\n",
            "0.2\n"
          ]
        }
      ]
    },
    {
      "cell_type": "code",
      "execution_count": 45,
      "metadata": {
        "id": "CERoIg4SxT_u"
      },
      "outputs": [],
      "source": [
        "def get_features(data, label, window):\n",
        "    data = data[window:] # skip samples to avoid integration anomaly\n",
        "    n = int(np.floor(len(data)/window))\n",
        "    data = data[:int(n)*window]\n",
        "    X = data.values.reshape((n, window))\n",
        "    y = np.ones(n)*label\n",
        "    return X, y\n",
        "\n",
        "\n"
      ]
    },
    {
      "cell_type": "code",
      "execution_count": 41,
      "metadata": {
        "colab": {
          "base_uri": "https://localhost:8080/"
        },
        "outputId": "86e34307-86e7-4d71-ded7-effb9777695f",
        "id": "S1uQZlEgxT_u"
      },
      "outputs": [
        {
          "output_type": "stream",
          "name": "stdout",
          "text": [
            "1\n",
            "2\n",
            "3\n",
            "4\n",
            "5\n",
            "6\n",
            "7\n",
            "8\n",
            "9\n",
            "10\n",
            "11\n",
            "12\n",
            "13\n",
            "14\n",
            "15\n",
            "16\n",
            "17\n",
            "18\n",
            "19\n",
            "20\n",
            "21\n",
            "22\n",
            "23\n",
            "24\n",
            "25\n",
            "26\n",
            "27\n",
            "28\n",
            "29\n",
            "30\n",
            "31\n",
            "32\n",
            "33\n",
            "34\n",
            "35\n",
            "36\n",
            "37\n",
            "38\n",
            "39\n",
            "40\n",
            "41\n",
            "42\n",
            "43\n",
            "44\n",
            "(4455, 4096) (4455,)\n"
          ]
        }
      ],
      "source": [
        "sensor = 'channel_1'\n",
        "seconds_per_analysis = 1.0\n",
        "window = int(fs * seconds_per_analysis)\n",
        "\n",
        "\n",
        "X0,y0 = get_features(data[0][sensor], labels[0], window)\n",
        "for i in range(1, len(data)):\n",
        "  print(i)\n",
        "  X1,y1 = get_features(data[i][sensor], labels[i], window)\n",
        "  X0=np.concatenate([X0, X1])\n",
        "  y0=np.concatenate([y0, y1])\n",
        "\n",
        "X = X0\n",
        "y = y0\n",
        "\n",
        "print(X.shape, y.shape)"
      ]
    },
    {
      "cell_type": "code",
      "source": [
        "sensor = 'channel_2'\n",
        "seconds_per_analysis = 1.0\n",
        "window = int(fs * seconds_per_analysis)\n",
        "\n",
        "\n",
        "X0,y0 = get_features(data[0][sensor], labels[0], window)\n",
        "for i in range(1, len(data)):\n",
        "  print(i)\n",
        "  X1,y1 = get_features(data[i][sensor], labels[i], window)\n",
        "  X0=np.concatenate([X0, X1])\n",
        "\n",
        "X2 = X0\n",
        "\n",
        "\n",
        "print(X2.shape)"
      ],
      "metadata": {
        "colab": {
          "base_uri": "https://localhost:8080/"
        },
        "outputId": "6773a7d2-5a92-4db2-9afb-b96c5732e93e",
        "id": "RCL-o1RdxT_u"
      },
      "execution_count": 42,
      "outputs": [
        {
          "output_type": "stream",
          "name": "stdout",
          "text": [
            "1\n",
            "2\n",
            "3\n",
            "4\n",
            "5\n",
            "6\n",
            "7\n",
            "8\n",
            "9\n",
            "10\n",
            "11\n",
            "12\n",
            "13\n",
            "14\n",
            "15\n",
            "16\n",
            "17\n",
            "18\n",
            "19\n",
            "20\n",
            "21\n",
            "22\n",
            "23\n",
            "24\n",
            "25\n",
            "26\n",
            "27\n",
            "28\n",
            "29\n",
            "30\n",
            "31\n",
            "32\n",
            "33\n",
            "34\n",
            "35\n",
            "36\n",
            "37\n",
            "38\n",
            "39\n",
            "40\n",
            "41\n",
            "42\n",
            "43\n",
            "44\n",
            "(4455, 4096)\n"
          ]
        }
      ]
    },
    {
      "cell_type": "code",
      "source": [
        "print(len(y[y==0])/len(y))\n",
        "print(len(y[y==1])/len(y))\n",
        "print(len(y[y==2])/len(y))\n",
        "print(len(y[y==3])/len(y))\n",
        "print(len(y[y==4])/len(y))"
      ],
      "metadata": {
        "colab": {
          "base_uri": "https://localhost:8080/"
        },
        "outputId": "b4bb539a-d9b9-485e-ceae-6d0f0698ea2d",
        "id": "FL77w_b5xT_u"
      },
      "execution_count": 43,
      "outputs": [
        {
          "output_type": "stream",
          "name": "stdout",
          "text": [
            "0.12053872053872054\n",
            "0.4006734006734007\n",
            "0.2404040404040404\n",
            "0.1191919191919192\n",
            "0.1191919191919192\n"
          ]
        }
      ]
    },
    {
      "cell_type": "code",
      "execution_count": 48,
      "metadata": {
        "colab": {
          "base_uri": "https://localhost:8080/",
          "height": 391
        },
        "outputId": "7c43aaa3-f7a0-4a56-d62b-6f80f7ca034f",
        "id": "keYw2xYwxT_v"
      },
      "outputs": [
        {
          "output_type": "execute_result",
          "data": {
            "text/plain": [
              "[<matplotlib.lines.Line2D at 0x7fd46a43e700>]"
            ]
          },
          "metadata": {},
          "execution_count": 48
        },
        {
          "output_type": "display_data",
          "data": {
            "text/plain": [
              "<Figure size 576x432 with 1 Axes>"
            ],
            "image/png": "[encoded data removed]"
          },
          "metadata": {
            "needs_background": "light"
          }
        }
      ],
      "source": [
        "fig = plt.figure(figsize=(8,6))\n",
        "plt.plot(X[0])"
      ]
    },
    {
      "cell_type": "code",
      "execution_count": 47,
      "metadata": {
        "colab": {
          "base_uri": "https://localhost:8080/",
          "height": 391
        },
        "outputId": "1c102cf2-d869-47a4-c3e9-8ca1bcf8902c",
        "id": "iOWhBSvVxT_v"
      },
      "outputs": [
        {
          "output_type": "execute_result",
          "data": {
            "text/plain": [
              "[<matplotlib.lines.Line2D at 0x7fd466e62430>]"
            ]
          },
          "metadata": {},
          "execution_count": 47
        },
        {
          "output_type": "display_data",
          "data": {
            "text/plain": [
              "<Figure size 576x432 with 1 Axes>"
            ],
            "image/png": "[encoded data removed]"
          },
          "metadata": {
            "needs_background": "light"
          }
        }
      ],
      "source": [
        "fig = plt.figure(figsize=(8,6))\n",
        "\n",
        "plt.plot(X[1000])"
      ]
    },
    {
      "cell_type": "markdown",
      "source": [
        "## Split"
      ],
      "metadata": {
        "id": "P2c4FUtxzVR5"
      }
    },
    {
      "cell_type": "code",
      "source": [
        "train_test_ratio = 0.8\n",
        "X_train, X_test, y_train, y_test, X2_train, X2_test = train_test_split(X, y, X2, test_size = 1-train_test_ratio, random_state = 42)\n",
        "\n",
        "print(X.shape, y.shape, X2.shape)\n",
        "\n",
        "print(X_train.shape, y_train.shape, X2_train.shape)\n"
      ],
      "metadata": {
        "colab": {
          "base_uri": "https://localhost:8080/"
        },
        "outputId": "33966590-0b46-4185-ccd7-5f254ca98005",
        "id": "3g4EiPwJzT5U"
      },
      "execution_count": 49,
      "outputs": [
        {
          "output_type": "stream",
          "name": "stdout",
          "text": [
            "(4455, 4096) (4455,) (4455, 4096)\n",
            "(3564, 4096) (3564,) (3564, 4096)\n"
          ]
        }
      ]
    },
    {
      "cell_type": "code",
      "execution_count": 50,
      "metadata": {
        "id": "tjBwuaJTzfDN"
      },
      "outputs": [],
      "source": [
        "n_classes = 5"
      ]
    },
    {
      "cell_type": "code",
      "execution_count": 51,
      "metadata": {
        "id": "3uPIBXmPzfDN"
      },
      "outputs": [],
      "source": [
        "class_weights = class_weight.compute_class_weight(class_weight = 'balanced',\n",
        "                                                 classes = np.unique(y_train),\n",
        "                                                 y = y_train)"
      ]
    },
    {
      "cell_type": "code",
      "execution_count": 52,
      "metadata": {
        "colab": {
          "base_uri": "https://localhost:8080/"
        },
        "outputId": "823605e9-7536-4935-c773-ed3947fda4d3",
        "id": "2ar9FZMOzfDN"
      },
      "outputs": [
        {
          "output_type": "execute_result",
          "data": {
            "text/plain": [
              "array([1.63112128, 0.50841655, 0.81369863, 1.66542056, 1.69311164])"
            ]
          },
          "metadata": {},
          "execution_count": 52
        }
      ],
      "source": [
        "class_weights"
      ]
    },
    {
      "cell_type": "code",
      "execution_count": 53,
      "metadata": {
        "id": "u3UWfsQ2zfDO"
      },
      "outputs": [],
      "source": [
        "class_weights_dict = dict(enumerate(class_weights))"
      ]
    },
    {
      "cell_type": "code",
      "execution_count": 54,
      "metadata": {
        "colab": {
          "base_uri": "https://localhost:8080/"
        },
        "outputId": "1f0af9dc-90e7-415f-ba14-17941d9e5110",
        "id": "feBQPV5TzfDO"
      },
      "outputs": [
        {
          "output_type": "execute_result",
          "data": {
            "text/plain": [
              "{0: 1.6311212814645308,\n",
              " 1: 0.508416547788873,\n",
              " 2: 0.8136986301369863,\n",
              " 3: 1.6654205607476635,\n",
              " 4: 1.6931116389548693}"
            ]
          },
          "metadata": {},
          "execution_count": 54
        }
      ],
      "source": [
        "class_weights_dict"
      ]
    },
    {
      "cell_type": "markdown",
      "source": [
        "## One Channel FFT"
      ],
      "metadata": {
        "id": "_YSpwihoz59T"
      }
    },
    {
      "cell_type": "markdown",
      "metadata": {
        "id": "E1cw1Dzdz22s"
      },
      "source": [
        "### Preprocessing"
      ]
    },
    {
      "cell_type": "code",
      "source": [
        "\n",
        "window = X_train.shape[1] \n",
        "X_train_prepared = np.abs(np.fft.rfft(X_train))/window\n",
        "X_train_prepared[:, 0]=0 # to zero the zero frequency\n",
        "X_train_prepared = X_train_prepared * 2 # rfft discards half spectrum, and half energy, so we can recover the energy this way\n",
        "X_train_prepared = X_train_prepared[:, 0:600] # reducing spectrum to max 600Hz\n",
        "\n",
        "#caler = MinMaxScaler()\n",
        "#scaler.fit(X_train_prepared)\n",
        "#X_train_scaled = scaler.transform(X_train_prepared)\n",
        "#X_train_prepared = X_train_scaled\n",
        "\n",
        "X_train_prepared = X_train_prepared * 10000 # to put values around 1\n",
        "\n",
        "\n"
      ],
      "metadata": {
        "id": "x2Sk3wLkz22s"
      },
      "execution_count": 58,
      "outputs": []
    },
    {
      "cell_type": "code",
      "source": [
        "fig = plt.figure(figsize=(8,6))\n",
        "plt.plot(X_train_prepared[0])\n",
        "print(y_train[0])"
      ],
      "metadata": {
        "colab": {
          "base_uri": "https://localhost:8080/",
          "height": 391
        },
        "outputId": "16e6b138-70da-406e-bd99-20c0700165f1",
        "id": "KN2-b8-ez22s"
      },
      "execution_count": 59,
      "outputs": [
        {
          "output_type": "stream",
          "name": "stdout",
          "text": [
            "3.0\n"
          ]
        },
        {
          "output_type": "display_data",
          "data": {
            "text/plain": [
              "<Figure size 576x432 with 1 Axes>"
            ],
            "image/png": "[encoded data removed]"
          },
          "metadata": {
            "needs_background": "light"
          }
        }
      ]
    },
    {
      "cell_type": "code",
      "source": [
        "fig = plt.figure(figsize=(8,6))\n",
        "plt.plot(X_train_prepared[6])\n",
        "print(y_train[6])"
      ],
      "metadata": {
        "colab": {
          "base_uri": "https://localhost:8080/",
          "height": 391
        },
        "id": "jhaep2wa0Ffh",
        "outputId": "e6b8d39e-9b6e-4c0c-e2fc-37e073eeb524"
      },
      "execution_count": 60,
      "outputs": [
        {
          "output_type": "stream",
          "name": "stdout",
          "text": [
            "1.0\n"
          ]
        },
        {
          "output_type": "display_data",
          "data": {
            "text/plain": [
              "<Figure size 576x432 with 1 Axes>"
            ],
            "image/png": "[encoded data removed]"
          },
          "metadata": {
            "needs_background": "light"
          }
        }
      ]
    },
    {
      "cell_type": "markdown",
      "metadata": {
        "id": "F0GGvG32z22s"
      },
      "source": [
        "### Training"
      ]
    },
    {
      "cell_type": "code",
      "execution_count": 61,
      "metadata": {
        "id": "rlmgnkmTz22s"
      },
      "outputs": [],
      "source": [
        "def basicModel(X_train):\n",
        "  kernel_size = 10\n",
        "  filter_size = 32\n",
        "\n",
        "  model = models.Sequential()\n",
        "  model.add(layers.Conv1D(filters=filter_size, kernel_size=kernel_size, activation='relu', input_shape=(X_train.shape[1],1)))\n",
        "  model.add(layers.MaxPooling1D(pool_size=2))\n",
        "  model.add(layers.Conv1D(filter_size, (kernel_size), activation='relu'))\n",
        "  model.add(layers.MaxPooling1D(pool_size=2))\n",
        "  model.add(layers.Conv1D(filter_size, (kernel_size), activation='relu'))\n",
        "  model.add(layers.MaxPooling1D(pool_size=2))\n",
        "  model.add(layers.Flatten())\n",
        "  model.add(layers.Dense(256, activation='relu'))\n",
        "  model.add(layers.Dropout(0.5))\n",
        "  model.add(layers.Dense(128, activation='relu'))\n",
        "  model.add(layers.Dense(n_classes, activation = 'softmax'))\n",
        "  return model"
      ]
    },
    {
      "cell_type": "code",
      "execution_count": 62,
      "metadata": {
        "colab": {
          "base_uri": "https://localhost:8080/"
        },
        "outputId": "a2d42bd7-92a9-4aa3-9072-fb6a8cebf95f",
        "id": "17R6tc5mz22t"
      },
      "outputs": [
        {
          "output_type": "stream",
          "name": "stdout",
          "text": [
            "Model: \"sequential\"\n",
            "_________________________________________________________________\n",
            " Layer (type)                Output Shape              Param #   \n",
            "=================================================================\n",
            " conv1d (Conv1D)             (None, 591, 32)           352       \n",
            "                                                                 \n",
            " max_pooling1d (MaxPooling1D  (None, 295, 32)          0         \n",
            " )                                                               \n",
            "                                                                 \n",
            " conv1d_1 (Conv1D)           (None, 286, 32)           10272     \n",
            "                                                                 \n",
            " max_pooling1d_1 (MaxPooling  (None, 143, 32)          0         \n",
            " 1D)                                                             \n",
            "                                                                 \n",
            " conv1d_2 (Conv1D)           (None, 134, 32)           10272     \n",
            "                                                                 \n",
            " max_pooling1d_2 (MaxPooling  (None, 67, 32)           0         \n",
            " 1D)                                                             \n",
            "                                                                 \n",
            " flatten (Flatten)           (None, 2144)              0         \n",
            "                                                                 \n",
            " dense (Dense)               (None, 256)               549120    \n",
            "                                                                 \n",
            " dropout (Dropout)           (None, 256)               0         \n",
            "                                                                 \n",
            " dense_1 (Dense)             (None, 128)               32896     \n",
            "                                                                 \n",
            " dense_2 (Dense)             (None, 5)                 645       \n",
            "                                                                 \n",
            "=================================================================\n",
            "Total params: 603,557\n",
            "Trainable params: 603,557\n",
            "Non-trainable params: 0\n",
            "_________________________________________________________________\n"
          ]
        }
      ],
      "source": [
        "model = basicModel(X_train_prepared)\n",
        "model.summary()"
      ]
    },
    {
      "cell_type": "code",
      "execution_count": 63,
      "metadata": {
        "id": "oFeaBgSYz22t"
      },
      "outputs": [],
      "source": [
        "model.compile(optimizer='adam',\n",
        "              loss = 'sparse_categorical_crossentropy',\n",
        "              metrics=['accuracy'])"
      ]
    },
    {
      "cell_type": "code",
      "execution_count": 64,
      "metadata": {
        "id": "ljpnUkzxz22t"
      },
      "outputs": [],
      "source": [
        "best_model_filepath = f\"{model_path}/cnn_base_line_all_faults.h5\"\n",
        "checkpoint = ModelCheckpoint(best_model_filepath, monitor='val_accuracy', \n",
        "                                 verbose=1, save_best_only=True, mode='max')\n",
        "earlystop = tf.keras.callbacks.EarlyStopping(monitor='loss', patience=5)"
      ]
    },
    {
      "cell_type": "code",
      "execution_count": 65,
      "metadata": {
        "colab": {
          "base_uri": "https://localhost:8080/"
        },
        "outputId": "cafa4786-8b30-4e43-a356-e81e94e0d3cb",
        "id": "hNsyACZFz22t"
      },
      "outputs": [
        {
          "output_type": "stream",
          "name": "stdout",
          "text": [
            "Epoch 1/20\n",
            "38/38 [==============================] - ETA: 0s - loss: 0.8152 - accuracy: 0.6891\n",
            "Epoch 1: val_accuracy improved from -inf to 0.87935, saving model to /content/drive/MyDrive/Vibration classification of rotating shaft under unbalance/models/cnn_base_line_all_faults.h5\n",
            "38/38 [==============================] - 9s 199ms/step - loss: 0.8152 - accuracy: 0.6891 - val_loss: 0.2015 - val_accuracy: 0.8794\n",
            "Epoch 2/20\n",
            "38/38 [==============================] - ETA: 0s - loss: 0.2244 - accuracy: 0.8944\n",
            "Epoch 2: val_accuracy improved from 0.87935 to 0.95072, saving model to /content/drive/MyDrive/Vibration classification of rotating shaft under unbalance/models/cnn_base_line_all_faults.h5\n",
            "38/38 [==============================] - 4s 114ms/step - loss: 0.2244 - accuracy: 0.8944 - val_loss: 0.1149 - val_accuracy: 0.9507\n",
            "Epoch 3/20\n",
            "37/38 [============================>.] - ETA: 0s - loss: 0.1157 - accuracy: 0.9531\n",
            "Epoch 3: val_accuracy improved from 0.95072 to 0.95837, saving model to /content/drive/MyDrive/Vibration classification of rotating shaft under unbalance/models/cnn_base_line_all_faults.h5\n",
            "38/38 [==============================] - 6s 154ms/step - loss: 0.1154 - accuracy: 0.9535 - val_loss: 0.1029 - val_accuracy: 0.9584\n",
            "Epoch 4/20\n",
            "37/38 [============================>.] - ETA: 0s - loss: 0.1059 - accuracy: 0.9582\n",
            "Epoch 4: val_accuracy did not improve from 0.95837\n",
            "38/38 [==============================] - 8s 198ms/step - loss: 0.1059 - accuracy: 0.9581 - val_loss: 0.1324 - val_accuracy: 0.9482\n",
            "Epoch 5/20\n",
            "37/38 [============================>.] - ETA: 0s - loss: 0.0593 - accuracy: 0.9764\n",
            "Epoch 5: val_accuracy improved from 0.95837 to 0.98216, saving model to /content/drive/MyDrive/Vibration classification of rotating shaft under unbalance/models/cnn_base_line_all_faults.h5\n",
            "38/38 [==============================] - 6s 153ms/step - loss: 0.0598 - accuracy: 0.9753 - val_loss: 0.0413 - val_accuracy: 0.9822\n",
            "Epoch 6/20\n",
            "37/38 [============================>.] - ETA: 0s - loss: 0.0661 - accuracy: 0.9713\n",
            "Epoch 6: val_accuracy did not improve from 0.98216\n",
            "38/38 [==============================] - 4s 111ms/step - loss: 0.0656 - accuracy: 0.9715 - val_loss: 0.0717 - val_accuracy: 0.9660\n",
            "Epoch 7/20\n",
            "37/38 [============================>.] - ETA: 0s - loss: 0.0429 - accuracy: 0.9831\n",
            "Epoch 7: val_accuracy did not improve from 0.98216\n",
            "38/38 [==============================] - 4s 111ms/step - loss: 0.0426 - accuracy: 0.9832 - val_loss: 0.0452 - val_accuracy: 0.9788\n",
            "Epoch 8/20\n",
            "37/38 [============================>.] - ETA: 0s - loss: 0.0668 - accuracy: 0.9759\n",
            "Epoch 8: val_accuracy improved from 0.98216 to 0.98301, saving model to /content/drive/MyDrive/Vibration classification of rotating shaft under unbalance/models/cnn_base_line_all_faults.h5\n",
            "38/38 [==============================] - 5s 119ms/step - loss: 0.0664 - accuracy: 0.9761 - val_loss: 0.0361 - val_accuracy: 0.9830\n",
            "Epoch 9/20\n",
            "37/38 [============================>.] - ETA: 0s - loss: 0.0371 - accuracy: 0.9848\n",
            "Epoch 9: val_accuracy improved from 0.98301 to 0.99320, saving model to /content/drive/MyDrive/Vibration classification of rotating shaft under unbalance/models/cnn_base_line_all_faults.h5\n",
            "38/38 [==============================] - 4s 113ms/step - loss: 0.0368 - accuracy: 0.9849 - val_loss: 0.0151 - val_accuracy: 0.9932\n",
            "Epoch 10/20\n",
            "37/38 [============================>.] - ETA: 0s - loss: 0.0287 - accuracy: 0.9886\n",
            "Epoch 10: val_accuracy did not improve from 0.99320\n",
            "38/38 [==============================] - 7s 174ms/step - loss: 0.0286 - accuracy: 0.9887 - val_loss: 0.0153 - val_accuracy: 0.9915\n",
            "Epoch 11/20\n",
            "37/38 [============================>.] - ETA: 0s - loss: 0.0194 - accuracy: 0.9899\n",
            "Epoch 11: val_accuracy improved from 0.99320 to 0.99575, saving model to /content/drive/MyDrive/Vibration classification of rotating shaft under unbalance/models/cnn_base_line_all_faults.h5\n",
            "38/38 [==============================] - 5s 120ms/step - loss: 0.0193 - accuracy: 0.9899 - val_loss: 0.0109 - val_accuracy: 0.9958\n",
            "Epoch 12/20\n",
            "37/38 [============================>.] - ETA: 0s - loss: 0.0135 - accuracy: 0.9945\n",
            "Epoch 12: val_accuracy did not improve from 0.99575\n",
            "38/38 [==============================] - 4s 112ms/step - loss: 0.0134 - accuracy: 0.9946 - val_loss: 0.0136 - val_accuracy: 0.9949\n",
            "Epoch 13/20\n",
            "37/38 [============================>.] - ETA: 0s - loss: 0.0404 - accuracy: 0.9802\n",
            "Epoch 13: val_accuracy did not improve from 0.99575\n",
            "38/38 [==============================] - 4s 111ms/step - loss: 0.0402 - accuracy: 0.9803 - val_loss: 0.0093 - val_accuracy: 0.9958\n",
            "Epoch 14/20\n",
            "37/38 [============================>.] - ETA: 0s - loss: 0.0219 - accuracy: 0.9894\n",
            "Epoch 14: val_accuracy improved from 0.99575 to 0.99915, saving model to /content/drive/MyDrive/Vibration classification of rotating shaft under unbalance/models/cnn_base_line_all_faults.h5\n",
            "38/38 [==============================] - 5s 121ms/step - loss: 0.0217 - accuracy: 0.9895 - val_loss: 0.0056 - val_accuracy: 0.9992\n",
            "Epoch 15/20\n",
            "37/38 [============================>.] - ETA: 0s - loss: 0.0079 - accuracy: 0.9970\n",
            "Epoch 15: val_accuracy did not improve from 0.99915\n",
            "38/38 [==============================] - 4s 111ms/step - loss: 0.0079 - accuracy: 0.9971 - val_loss: 0.0044 - val_accuracy: 0.9992\n",
            "Epoch 16/20\n",
            "37/38 [============================>.] - ETA: 0s - loss: 0.0053 - accuracy: 0.9975\n",
            "Epoch 16: val_accuracy did not improve from 0.99915\n",
            "38/38 [==============================] - 4s 113ms/step - loss: 0.0053 - accuracy: 0.9975 - val_loss: 0.0054 - val_accuracy: 0.9975\n",
            "Epoch 17/20\n",
            "37/38 [============================>.] - ETA: 0s - loss: 0.0176 - accuracy: 0.9945\n",
            "Epoch 17: val_accuracy did not improve from 0.99915\n",
            "38/38 [==============================] - 4s 111ms/step - loss: 0.0175 - accuracy: 0.9946 - val_loss: 0.0067 - val_accuracy: 0.9983\n",
            "Epoch 18/20\n",
            "37/38 [============================>.] - ETA: 0s - loss: 0.0070 - accuracy: 0.9975\n",
            "Epoch 18: val_accuracy did not improve from 0.99915\n",
            "38/38 [==============================] - 5s 129ms/step - loss: 0.0069 - accuracy: 0.9975 - val_loss: 0.0070 - val_accuracy: 0.9983\n",
            "Epoch 19/20\n",
            "37/38 [============================>.] - ETA: 0s - loss: 0.0120 - accuracy: 0.9937\n",
            "Epoch 19: val_accuracy improved from 0.99915 to 1.00000, saving model to /content/drive/MyDrive/Vibration classification of rotating shaft under unbalance/models/cnn_base_line_all_faults.h5\n",
            "38/38 [==============================] - 5s 123ms/step - loss: 0.0119 - accuracy: 0.9937 - val_loss: 0.0011 - val_accuracy: 1.0000\n",
            "Epoch 20/20\n",
            "37/38 [============================>.] - ETA: 0s - loss: 0.0043 - accuracy: 0.9996\n",
            "Epoch 20: val_accuracy did not improve from 1.00000\n",
            "38/38 [==============================] - 4s 112ms/step - loss: 0.0044 - accuracy: 0.9996 - val_loss: 0.0070 - val_accuracy: 0.9966\n"
          ]
        }
      ],
      "source": [
        "n_epochs = 20\n",
        "history = model.fit(X_train_prepared, y_train, epochs = n_epochs, batch_size = 64,\n",
        "                   validation_split=0.33, callbacks=[checkpoint, earlystop],\n",
        "                    class_weight=class_weights_dict)"
      ]
    },
    {
      "cell_type": "code",
      "execution_count": 66,
      "metadata": {
        "colab": {
          "base_uri": "https://localhost:8080/",
          "height": 300
        },
        "outputId": "537ca01e-9e13-4e0c-fa5b-702e8db3915b",
        "id": "rRDtpxDDz22t"
      },
      "outputs": [
        {
          "output_type": "execute_result",
          "data": {
            "text/plain": [
              "<matplotlib.legend.Legend at 0x7fd4672c7250>"
            ]
          },
          "metadata": {},
          "execution_count": 66
        },
        {
          "output_type": "display_data",
          "data": {
            "text/plain": [
              "<Figure size 432x288 with 1 Axes>"
            ],
            "image/png": "[encoded data removed]"
          },
          "metadata": {
            "needs_background": "light"
          }
        }
      ],
      "source": [
        "plt.plot(history.history['accuracy'], label='accuracy')\n",
        "plt.plot(history.history['val_accuracy'], label = 'val_accuracy')\n",
        "plt.xlabel('Epoch')\n",
        "plt.ylabel('Accuracy')\n",
        "plt.ylim([0.5, 1])\n",
        "plt.legend(loc='lower right')"
      ]
    },
    {
      "cell_type": "code",
      "source": [
        "plt.plot(history.history['loss'], label='loss')\n",
        "plt.plot(history.history['val_loss'], label = 'val_loss')\n",
        "plt.xlabel('Epoch')\n",
        "plt.ylabel('Loss')\n",
        "plt.ylim([0, 1])\n",
        "plt.legend(loc='lower right')"
      ],
      "metadata": {
        "colab": {
          "base_uri": "https://localhost:8080/",
          "height": 300
        },
        "id": "9Xr0qXUZ2--J",
        "outputId": "de349fd4-2019-435a-fcf8-e04e23d5139e"
      },
      "execution_count": 67,
      "outputs": [
        {
          "output_type": "execute_result",
          "data": {
            "text/plain": [
              "<matplotlib.legend.Legend at 0x7fd4672fe400>"
            ]
          },
          "metadata": {},
          "execution_count": 67
        },
        {
          "output_type": "display_data",
          "data": {
            "text/plain": [
              "<Figure size 432x288 with 1 Axes>"
            ],
            "image/png": "[encoded data removed]"
          },
          "metadata": {
            "needs_background": "light"
          }
        }
      ]
    },
    {
      "cell_type": "markdown",
      "metadata": {
        "id": "9s_drf54z22t"
      },
      "source": [
        "### evaluation"
      ]
    },
    {
      "cell_type": "code",
      "source": [
        "X_test_prepared = np.abs(np.fft.rfft(X_test))/window\n",
        "X_test_prepared[:, 0]=0\n",
        "X_test_prepared = X_test_prepared * 2\n",
        "X_test_prepared = X_test_prepared[:, 0:600] # reducing to max 600Hz\n",
        "\n",
        "#X_test_prepared = scaler.transform(X_test_prepared)\n",
        "\n",
        "X_test_prepared = X_test_prepared * 10000\n",
        "\n",
        "\n",
        "#X_test_prepared = np.reshape(X_test_prepared, (X_test_prepared.shape[0], X_test_prepared.shape[1], 1))"
      ],
      "metadata": {
        "id": "8ojXgSCaz22t"
      },
      "execution_count": 68,
      "outputs": []
    },
    {
      "cell_type": "code",
      "execution_count": 69,
      "metadata": {
        "colab": {
          "base_uri": "https://localhost:8080/"
        },
        "outputId": "26871c14-96c4-4576-8956-0b8d58ea3f73",
        "id": "cHYZ3LbAz22u"
      },
      "outputs": [
        {
          "output_type": "stream",
          "name": "stdout",
          "text": [
            "28/28 [==============================] - 1s 14ms/step - loss: 0.0012 - accuracy: 1.0000\n"
          ]
        },
        {
          "output_type": "execute_result",
          "data": {
            "text/plain": [
              "[0.0012194516602903605, 1.0]"
            ]
          },
          "metadata": {},
          "execution_count": 69
        }
      ],
      "source": [
        "best_model = load_model(best_model_filepath)\n",
        "best_model.evaluate(X_test_prepared, y_test)"
      ]
    },
    {
      "cell_type": "code",
      "execution_count": 70,
      "metadata": {
        "colab": {
          "base_uri": "https://localhost:8080/"
        },
        "outputId": "63c49f71-84f9-45b1-a8cb-83ee05212fa4",
        "id": "wkuhbRFbz22u"
      },
      "outputs": [
        {
          "output_type": "stream",
          "name": "stdout",
          "text": [
            "28/28 [==============================] - 1s 14ms/step\n"
          ]
        }
      ],
      "source": [
        "y_pred = best_model.predict(X_test_prepared)\n"
      ]
    },
    {
      "cell_type": "code",
      "execution_count": 71,
      "metadata": {
        "colab": {
          "base_uri": "https://localhost:8080/"
        },
        "outputId": "18df0717-b570-40b3-9d03-196991471376",
        "id": "1s6UGUO4z22u"
      },
      "outputs": [
        {
          "output_type": "execute_result",
          "data": {
            "text/plain": [
              "array([[100,   0,   0,   0,   0],\n",
              "       [  0, 383,   0,   0,   0],\n",
              "       [  0,   0, 195,   0,   0],\n",
              "       [  0,   0,   0, 103,   0],\n",
              "       [  0,   0,   0,   0, 110]])"
            ]
          },
          "metadata": {},
          "execution_count": 71
        }
      ],
      "source": [
        "y_pred_classes = np.argmax(y_pred, axis=1)\n",
        "\n",
        "confusion_matrix(y_test, y_pred_classes)\n",
        "\n"
      ]
    },
    {
      "cell_type": "code",
      "execution_count": 72,
      "metadata": {
        "colab": {
          "base_uri": "https://localhost:8080/"
        },
        "outputId": "89da0466-6c3a-40a4-9134-52c174f15865",
        "id": "5j7-C1Hrz22u"
      },
      "outputs": [
        {
          "output_type": "stream",
          "name": "stdout",
          "text": [
            "Precision: 1.0\n",
            "Recall: 1.0\n",
            "F1-score: 1.0\n"
          ]
        }
      ],
      "source": [
        "prec = precision_score(y_test, y_pred_classes, average='macro' )\n",
        "recall = recall_score(y_test, y_pred_classes, average='macro')\n",
        "f1 = f1_score(y_test, y_pred_classes, average='macro')\n",
        "\n",
        "print(f'Precision: {prec}') \n",
        "print(f'Recall: {recall}') \n",
        "print(f'F1-score: {f1}')"
      ]
    }
  ],
  "metadata": {
    "colab": {
      "collapsed_sections": [
        "0tGmkPOrUl-U",
        "jeuCqD-FcSRI"
      ],
      "toc_visible": true,
      "provenance": [],
      "authorship_tag": "ABX9TyMVXZDKvj3e/Krb3Pbl81/B",
      "include_colab_link": true
    },
    "gpuClass": "standard",
    "kernelspec": {
      "display_name": "Python 3",
      "name": "python3"
    },
    "language_info": {
      "name": "python"
    }
  },
  "nbformat": 4,
  "nbformat_minor": 0
}